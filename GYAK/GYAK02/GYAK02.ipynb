{
 "cells": [
  {
   "cell_type": "code",
   "execution_count": 2,
   "metadata": {},
   "outputs": [],
   "source": [
    "import numpy as np"
   ]
  },
  {
   "cell_type": "code",
   "execution_count": null,
   "metadata": {},
   "outputs": [],
   "source": [
    "#FONTOS!!!\n",
    "\n",
    "# CSAK OTT LEHET HASZNÁLNI FOR LOOP-OT AHOL A FELADAT KÜLÖN KÉRI!\n",
    "# [1,2,3,4] --> ezek az értékek np.array-ek. Ahol listát kérek paraméterként ott külön ki fogom emelni!\n",
    "# Ha végeztél a feladatokkal, akkor notebook-ot alakítsd át .py.\n",
    "# A FÁJLBAN CSAK A FÜGGVÉNYEK LEGYENEK! (KOMMENTEK MARADHATNAK)"
   ]
  },
  {
   "cell_type": "code",
   "execution_count": null,
   "metadata": {},
   "outputs": [],
   "source": [
    "#Készíts egy függvényt ami létre hoz egy nullákkal teli numpy array-t.\n",
    "#Paraméterei: mérete (tuple-ként), default mérete pedig legyen egy (2,2)\n",
    "#Be: (2,2)\n",
    "#Ki: [[0,0],[0,0]]\n",
    "#create_array()"
   ]
  },
  {
   "cell_type": "code",
   "execution_count": null,
   "metadata": {},
   "outputs": [],
   "source": [
    "def create_array(size:np.int128)->np.array:\n",
    "    array=np.array(size)\n",
    "    return array"
   ]
  },
  {
   "cell_type": "code",
   "execution_count": null,
   "metadata": {},
   "outputs": [],
   "source": [
    "#Készíts egy függvényt ami a paraméterként kapott array-t főátlóját feltölti egyesekkel\n",
    "#Be: [[1,2],[3,4]]\n",
    "#Ki: [[1,2],[3,1]]\n",
    "#set_one()"
   ]
  },
  {
   "cell_type": "code",
   "execution_count": null,
   "metadata": {},
   "outputs": [],
   "source": [
    "def ste_one(input_array:np.array)->np.array:\n",
    "    np.fill_diagonal(input_array,1)\n",
    "    return input_array    \n",
    "        \n",
    "        "
   ]
  },
  {
   "cell_type": "code",
   "execution_count": null,
   "metadata": {},
   "outputs": [],
   "source": [
    "# Készíts egy függvényt ami transzponálja a paraméterül kapott mártix-ot:\n",
    "# Be: [[1, 2], [3, 4]]\n",
    "# Ki: [[1, 2], [3, 4]]\n",
    "# do_transpose()"
   ]
  },
  {
   "cell_type": "code",
   "execution_count": 3,
   "metadata": {},
   "outputs": [],
   "source": [
    "def do_transpose(input_matrix)->np.array:\n",
    "    input_matrix=np.transpose(input_matrix)\n",
    "    return input_matrix\n",
    "    "
   ]
  },
  {
   "cell_type": "code",
   "execution_count": null,
   "metadata": {},
   "outputs": [],
   "source": [
    "# Készíts egy olyan függvényt ami az array-ben lévő értékeket N tizenedjegyik kerekíti, ha nincs megadva ez a paraméter, akkor legyen az alapértelmezett a kettő \n",
    "# Be: [0.1223, 0.1675], 2\n",
    "# Ki: [0.12, 0.17]\n",
    "# round_array()"
   ]
  },
  {
   "cell_type": "code",
   "execution_count": null,
   "metadata": {},
   "outputs": [],
   "source": [
    "def round_array(array, n:int=2)->np.array:\n",
    "    input_list=np.round(array,n)\n",
    "    return"
   ]
  },
  {
   "cell_type": "code",
   "execution_count": null,
   "metadata": {},
   "outputs": [],
   "source": [
    "# Készíts egy olyan függvényt, ami a bementként kapott 0 és 1 ből álló tömben a 0 - False-ra, az 1 True-ra cserélni\n",
    "# Be: [[1, 0, 0], [1, 1, 1],[0, 0, 0]]\n",
    "# Ki: [[ True False False], [ True  True  True], [False False False]]\n",
    "# bool_array()"
   ]
  },
  {
   "cell_type": "code",
   "execution_count": 4,
   "metadata": {},
   "outputs": [],
   "source": [
    "\n",
    "def bool_array(array)->np.array:\n",
    "    array=np.array(array,dtype=bool)\n",
    "    return array\n",
    "    \n"
   ]
  },
  {
   "cell_type": "code",
   "execution_count": null,
   "metadata": {},
   "outputs": [],
   "source": [
    "# Készíts egy olyan függvényt, ami a bementként kapott 0 és 1 ből álló tömben a 1 - False-ra az 0 True-ra cserélni\n",
    "# Be: [[1, 0, 0], [1, 1, 1],[0, 0, 0]]\n",
    "# Ki: [[ True False False], [ True  True  True], [False False False]]\n",
    "# invert_bool_array()"
   ]
  },
  {
   "cell_type": "code",
   "execution_count": null,
   "metadata": {},
   "outputs": [],
   "source": [
    "def invert_bool_array(array)->np.array:\n",
    "    array=np.invert(np.array(array,dtype=bool))\n",
    "    \n",
    "    return array"
   ]
  },
  {
   "cell_type": "code",
   "execution_count": null,
   "metadata": {},
   "outputs": [],
   "source": [
    "# Készíts egy olyan függvényt ami a paraméterként kapott array-t kilapítja\n",
    "# Be: [[1,2], [3,4]]\n",
    "# Ki: [1,2,3,4]\n",
    "# flatten()\n"
   ]
  },
  {
   "cell_type": "code",
   "execution_count": null,
   "metadata": {},
   "outputs": [],
   "source": [
    "def flatten(input:np.array):\n",
    "    return input.flatten()"
   ]
  }
 ],
 "metadata": {
  "kernelspec": {
   "display_name": "Python 3",
   "language": "python",
   "name": "python3"
  },
  "language_info": {
   "codemirror_mode": {
    "name": "ipython",
    "version": 3
   },
   "file_extension": ".py",
   "mimetype": "text/x-python",
   "name": "python",
   "nbconvert_exporter": "python",
   "pygments_lexer": "ipython3",
   "version": "3.10.10"
  },
  "orig_nbformat": 4
 },
 "nbformat": 4,
 "nbformat_minor": 2
}
