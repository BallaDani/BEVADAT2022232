{
 "cells": [
  {
   "cell_type": "code",
   "execution_count": null,
   "metadata": {},
   "outputs": [],
   "source": [
    "#Create a function that decides if a list contains any odd numbers.\n",
    "#return type: bool\n",
    "#function name must be: contains_odd\n",
    "#input parameters: input_list"
   ]
  },
  {
   "cell_type": "code",
   "execution_count": null,
   "metadata": {},
   "outputs": [],
   "source": [
    "def contains_odd(input_list):\n",
    "    for x in input_list:\n",
    "        if x % 2 !=0:\n",
    "            return True\n",
    "    return False    "
   ]
  },
  {
   "cell_type": "code",
   "execution_count": null,
   "metadata": {},
   "outputs": [],
   "source": [
    "#Create a function that accepts a list of integers, and returns a list of bool.\n",
    "#The return list should be a \"mask\" and indicate whether the list element is odd or not.\n",
    "#(return should look like this: [True,False,False,.....])\n",
    "#return type: list\n",
    "#function name must be: is_odd\n",
    "#input parameters: input_list"
   ]
  },
  {
   "cell_type": "code",
   "execution_count": null,
   "metadata": {},
   "outputs": [],
   "source": [
    "def is_odd(input_list):\n",
    "    res=[]\n",
    "    for num in input_list:\n",
    "        res.append(num % 2 != 0)\n",
    "    return res"
   ]
  },
  {
   "cell_type": "code",
   "execution_count": null,
   "metadata": {},
   "outputs": [],
   "source": [
    "\n",
    "#Create a function that accpects 2 lists of integers and returns their element wise sum. <br>\n",
    "#(return should be a list)\n",
    "#return type: list\n",
    "#function name must be: element_wise_sum\n",
    "#input parameters: input_list_1, input_list_2"
   ]
  },
  {
   "cell_type": "code",
   "execution_count": null,
   "metadata": {},
   "outputs": [],
   "source": [
    "def element_wise_sum(input_list_1,input_list_2):\n",
    "        i=0\n",
    "        outlist=[]\n",
    "        while i<len(input_list_1) & i<len(input_list_2):\n",
    "            outlist[i]=input_list_1[i]+input_list_2[i]\n",
    "            i+=1\n",
    "        return outlist    "
   ]
  },
  {
   "cell_type": "code",
   "execution_count": null,
   "metadata": {},
   "outputs": [],
   "source": [
    "#Create a function that accepts a dictionary and returns its items as a list of tuples\n",
    "#(return should look like this: [(key,value),(key,value),....])\n",
    "#return type: list\n",
    "#function name must be: dict_to_list\n",
    "#input parameters: input_dict"
   ]
  },
  {
   "cell_type": "code",
   "execution_count": 2,
   "metadata": {},
   "outputs": [],
   "source": [
    "def dict_to_list(input_dict):\n",
    "    oulist=[]\n",
    "    for x in input_dict:\n",
    "        oulist.append(x)\n",
    "    return oulist    "
   ]
  },
  {
   "cell_type": "code",
   "execution_count": null,
   "metadata": {},
   "outputs": [],
   "source": [
    "#If all the functions are created convert this notebook into a .py file and push to your repo"
   ]
  }
 ],
 "metadata": {
  "kernelspec": {
   "display_name": "Python 3",
   "language": "python",
   "name": "python3"
  },
  "language_info": {
   "codemirror_mode": {
    "name": "ipython",
    "version": 3
   },
   "file_extension": ".py",
   "mimetype": "text/x-python",
   "name": "python",
   "nbconvert_exporter": "python",
   "pygments_lexer": "ipython3",
   "version": "3.10.10"
  },
  "orig_nbformat": 4,
  "vscode": {
   "interpreter": {
    "hash": "dba4153087a10e082bfbbe2c89055f6b605995431c3d47d099df44f56e06c25c"
   }
  }
 },
 "nbformat": 4,
 "nbformat_minor": 2
}
