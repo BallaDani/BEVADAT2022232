{
 "cells": [
  {
   "cell_type": "code",
   "execution_count": 2,
   "metadata": {},
   "outputs": [],
   "source": [
    "\n",
    "\n",
    "import numpy as np\n",
    "import pandas as pd\n",
    "import matplotlib.pyplot as plt\n",
    "from typing import Tuple\n",
    "from scipy.stats import mode\n",
    "from sklearn.metrics import confusion_matrix\n",
    "import seaborn as sns"
   ]
  },
  {
   "attachments": {},
   "cell_type": "markdown",
   "metadata": {},
   "source": [
    "Load data and clean"
   ]
  },
  {
   "cell_type": "code",
   "execution_count": 3,
   "metadata": {},
   "outputs": [],
   "source": [
    "def load_csv(path:str)->tuple[np.ndarray,np.ndarray]:\n",
    "    np.random.seed(42)\n",
    "    dataset=np.genfromtxt(path,delimiter=\",\")\n",
    "    np.random.shuffle(dataset)\n",
    "    x,y=dataset[:,:-1],dataset[:,-1]\n",
    "    return x,y\n",
    "dataset=load_csv('iris.csv')\n",
    "\n",
    "\n",
    "\n"
   ]
  },
  {
   "cell_type": "code",
   "execution_count": 4,
   "metadata": {},
   "outputs": [],
   "source": [
    "x,y=load_csv('iris.csv')"
   ]
  },
  {
   "cell_type": "code",
   "execution_count": 5,
   "metadata": {},
   "outputs": [
    {
     "data": {
      "text/plain": [
       "(array([nan, nan, nan, nan]), array([nan, nan, nan, nan]))"
      ]
     },
     "execution_count": 5,
     "metadata": {},
     "output_type": "execute_result"
    }
   ],
   "source": [
    "np.mean(x,axis=0),np.var(x,axis=0)"
   ]
  },
  {
   "cell_type": "code",
   "execution_count": 6,
   "metadata": {},
   "outputs": [
    {
     "data": {
      "text/plain": [
       "(array([ 355.46503497, -280.09189189,    2.95      ,   21.74726027]),\n",
       " array([1.73561968e+07, 1.18405444e+07, 1.51049922e+04, 6.11729208e+04]))"
      ]
     },
     "execution_count": 6,
     "metadata": {},
     "output_type": "execute_result"
    }
   ],
   "source": [
    "np.nanmean(x,axis=0),np.nanvar(x,axis=0)"
   ]
  },
  {
   "cell_type": "code",
   "execution_count": 7,
   "metadata": {},
   "outputs": [],
   "source": [
    "x[np.isnan(x)]=3.5"
   ]
  },
  {
   "cell_type": "code",
   "execution_count": 8,
   "metadata": {},
   "outputs": [
    {
     "data": {
      "text/plain": [
       "(4, 2)"
      ]
     },
     "execution_count": 8,
     "metadata": {},
     "output_type": "execute_result"
    }
   ],
   "source": [
    "(x>10.0).sum(),(x<0.0).sum()"
   ]
  },
  {
   "cell_type": "code",
   "execution_count": 9,
   "metadata": {},
   "outputs": [
    {
     "data": {
      "text/plain": [
       "array([ -1111.,    100.,   1000.,  50000.,   3000., -42000.])"
      ]
     },
     "execution_count": 9,
     "metadata": {},
     "output_type": "execute_result"
    }
   ],
   "source": [
    "x[np.where(np.logical_or(x>10.0,x<0.0))]"
   ]
  },
  {
   "cell_type": "code",
   "execution_count": 10,
   "metadata": {},
   "outputs": [
    {
     "data": {
      "text/plain": [
       "((array([  4, 140], dtype=int64), array([2, 1], dtype=int64)),\n",
       " (array([14, 27, 28, 62], dtype=int64), array([1, 2, 0, 3], dtype=int64)))"
      ]
     },
     "execution_count": 10,
     "metadata": {},
     "output_type": "execute_result"
    }
   ],
   "source": [
    "less_than=np.where(x<0.0)\n",
    "higher_than=np.where(x>10.0)\n",
    "less_than,higher_than"
   ]
  },
  {
   "cell_type": "code",
   "execution_count": 11,
   "metadata": {},
   "outputs": [
    {
     "data": {
      "text/plain": [
       "((144, 4), (144,))"
      ]
     },
     "execution_count": 11,
     "metadata": {},
     "output_type": "execute_result"
    }
   ],
   "source": [
    "y= np.delete(y,np.where(x<0.0)[0],axis=0)\n",
    "y= np.delete(y,np.where(x>10.0)[0],axis=0)\n",
    "x= np.delete(x,np.where(x<0.0)[0],axis=0)\n",
    "x= np.delete(x,np.where(x>10.0)[0],axis=0)\n",
    "x.shape,y.shape"
   ]
  },
  {
   "attachments": {},
   "cell_type": "markdown",
   "metadata": {},
   "source": [
    "Train test split"
   ]
  },
  {
   "cell_type": "code",
   "execution_count": 38,
   "metadata": {},
   "outputs": [],
   "source": [
    "def train_test_split(features:np.ndarray,labels:np.ndarray,test_split_ratio:float):\n",
    "    test_size=int(len(features)*test_split_ratio)\n",
    "    train_size=len(features)-test_size\n",
    "    assert len(features)==test_size+train_size,'Size mismatch!'\n",
    "\n",
    "    x_train,y_train=features[:train_size,:],labels[:train_size]\n",
    "    x_test,y_test=features[train_size:,:],labels[train_size:]\n",
    "    return(x_train,y_train,x_test,y_test)\n",
    "\n",
    "\n"
   ]
  },
  {
   "cell_type": "code",
   "execution_count": 39,
   "metadata": {},
   "outputs": [],
   "source": [
    "x_train,y_train,x_test,y_test=train_test_split(x,y,0.20)"
   ]
  },
  {
   "attachments": {},
   "cell_type": "markdown",
   "metadata": {},
   "source": [
    "Distance"
   ]
  },
  {
   "cell_type": "code",
   "execution_count": 40,
   "metadata": {},
   "outputs": [],
   "source": [
    "def euclidean(points,element_of_x):\n",
    "    print(points.shape,element_of_x.shape)\n",
    "    return np.sqrt(np.sum((points-element_of_x)**2,axis=1))"
   ]
  },
  {
   "attachments": {},
   "cell_type": "markdown",
   "metadata": {},
   "source": [
    "Predict"
   ]
  },
  {
   "cell_type": "code",
   "execution_count": 41,
   "metadata": {},
   "outputs": [],
   "source": [
    "def predict(x_train:np.ndarray,y_train:np.ndarray,x_test:np.ndarray,k:int) -> np.ndarray:\n",
    "    labels_pred = []\n",
    "    for x_test_element in x_test:\n",
    "        distances = euclidean(x_train,x_test_element)\n",
    "        distances = np.array(sorted(zip(distances,y_train)))\n",
    "        label_pred = mode(distances[:k,1],keepdims=False).mode\n",
    "        labels_pred.append(label_pred)\n",
    "    return np.array(labels_pred,dtype=np.int32)"
   ]
  },
  {
   "cell_type": "code",
   "execution_count": 45,
   "metadata": {},
   "outputs": [
    {
     "name": "stdout",
     "output_type": "stream",
     "text": [
      "(116, 4) (4,)\n",
      "(116, 4) (4,)\n",
      "(116, 4) (4,)\n",
      "(116, 4) (4,)\n",
      "(116, 4) (4,)\n",
      "(116, 4) (4,)\n",
      "(116, 4) (4,)\n",
      "(116, 4) (4,)\n",
      "(116, 4) (4,)\n",
      "(116, 4) (4,)\n",
      "(116, 4) (4,)\n",
      "(116, 4) (4,)\n",
      "(116, 4) (4,)\n",
      "(116, 4) (4,)\n",
      "(116, 4) (4,)\n",
      "(116, 4) (4,)\n",
      "(116, 4) (4,)\n",
      "(116, 4) (4,)\n",
      "(116, 4) (4,)\n",
      "(116, 4) (4,)\n",
      "(116, 4) (4,)\n",
      "(116, 4) (4,)\n",
      "(116, 4) (4,)\n",
      "(116, 4) (4,)\n",
      "(116, 4) (4,)\n",
      "(116, 4) (4,)\n",
      "(116, 4) (4,)\n",
      "(116, 4) (4,)\n"
     ]
    }
   ],
   "source": [
    "y_preds=predict(x_train,y_train,x_test,3)"
   ]
  },
  {
   "attachments": {},
   "cell_type": "markdown",
   "metadata": {},
   "source": [
    "Metrics"
   ]
  },
  {
   "cell_type": "code",
   "execution_count": 43,
   "metadata": {},
   "outputs": [],
   "source": [
    "def accuracy(y_test,y_preds):\n",
    "    true_positive=(y_test==y_preds).sum()\n",
    "    return true_positive/len(y_test)*100"
   ]
  },
  {
   "cell_type": "code",
   "execution_count": 47,
   "metadata": {},
   "outputs": [
    {
     "data": {
      "image/png": "[encoded data removed]",
      "text/plain": [
       "<Figure size 640x480 with 2 Axes>"
      ]
     },
     "metadata": {},
     "output_type": "display_data"
    }
   ],
   "source": [
    "def plot_confusion_matrix(y_test,y_preds):\n",
    "    conf_matrix=confusion_matrix(y_test,y_preds)\n",
    "    sns.heatmap(conf_matrix)\n",
    "\n",
    "plot_confusion_matrix(y_test,y_preds)"
   ]
  }
 ],
 "metadata": {
  "kernelspec": {
   "display_name": "Python 3",
   "language": "python",
   "name": "python3"
  },
  "language_info": {
   "codemirror_mode": {
    "name": "ipython",
    "version": 3
   },
   "file_extension": ".py",
   "mimetype": "text/x-python",
   "name": "python",
   "nbconvert_exporter": "python",
   "pygments_lexer": "ipython3",
   "version": "3.10.10"
  },
  "orig_nbformat": 4
 },
 "nbformat": 4,
 "nbformat_minor": 2
}
