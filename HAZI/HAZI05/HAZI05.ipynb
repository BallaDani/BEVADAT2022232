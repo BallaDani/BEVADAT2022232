{
 "cells": [
  {
   "cell_type": "code",
   "execution_count": null,
   "metadata": {},
   "outputs": [],
   "source": [
    "import pandas as pd\n",
    "from typing import Tuple\n",
    "from scipy.stats import mode\n",
    "from sklearn.metrics import confusion_matrix\n",
    "import seaborn as sns"
   ]
  },
  {
   "cell_type": "code",
   "execution_count": null,
   "metadata": {},
   "outputs": [],
   "source": [
    "def load_csv(csv_path:str) -> Tuple[np.ndarray,np.ndarray]:\n",
    "        \n",
    "        dataset = pd.read_csv(csv_path,delimiter=',')\n",
    "        dataset=dataset.sample(frac=1,random_state=42)\n",
    "        \n",
    "        x,y = dataset[:,:4],dataset[:,-1]\n",
    "        x[np.isnan(x)] = 3.5\n",
    "        y = np.delete(y,np.where(x < 0.0)[0],axis=0)\n",
    "        y = np.delete(y,np.where(x > 13.0)[0],axis=0)\n",
    "        x = np.delete(x,np.where(x < 0.0)[0],axis=0)\n",
    "        x = np.delete(x,np.where(x > 13.0)[0],axis=0)\n",
    "        return x,y"
   ]
  },
  {
   "cell_type": "code",
   "execution_count": null,
   "metadata": {},
   "outputs": [],
   "source": [
    "def train_test_split(self,features,labels) -> None:\n",
    "        \n",
    "        test_size = int(len(features) * self.test_split_ratio)\n",
    "        train_size = len(features) - test_size\n",
    "        assert len(features) == test_size + train_size, \"Size mismatch!\"\n",
    "\n",
    "        self.x_train, self.y_train = features[:train_size,:],labels[:train_size]\n",
    "        self.x_test, self.y_test = features[train_size:train_size+test_size,:], labels[train_size:train_size + test_size]"
   ]
  },
  {
   "cell_type": "code",
   "execution_count": null,
   "metadata": {},
   "outputs": [],
   "source": []
  }
 ],
 "metadata": {
  "language_info": {
   "name": "python"
  },
  "orig_nbformat": 4
 },
 "nbformat": 4,
 "nbformat_minor": 2
}
