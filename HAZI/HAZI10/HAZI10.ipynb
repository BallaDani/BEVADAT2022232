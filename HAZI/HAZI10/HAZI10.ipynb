{
 "cells": [
  {
   "cell_type": "code",
   "execution_count": 1,
   "metadata": {},
   "outputs": [],
   "source": [
    "import tensorflow as tf"
   ]
  },
  {
   "cell_type": "code",
   "execution_count": 2,
   "metadata": {},
   "outputs": [
    {
     "data": {
      "text/plain": [
       "'\\nKészíts egy metódust ami a mnist adatbázisból betölti a train és test adatokat. (tf.keras.datasets.mnist.load_data())\\nMajd a tanitó, és tesztelő adatokat normalizálja, és vissza is tér velük.\\n\\n\\nEgy példa a kimenetre: train_images, train_labels, test_images, test_labels\\nfüggvény neve: mnist_digit_data\\n'"
      ]
     },
     "execution_count": 2,
     "metadata": {},
     "output_type": "execute_result"
    }
   ],
   "source": [
    "'''\n",
    "Készíts egy metódust ami a mnist adatbázisból betölti a train és test adatokat. (tf.keras.datasets.mnist.load_data())\n",
    "Majd a tanitó, és tesztelő adatokat normalizálja, és vissza is tér velük.\n",
    "\n",
    "\n",
    "Egy példa a kimenetre: train_images, train_labels, test_images, test_labels\n",
    "függvény neve: mnist_digit_data\n",
    "'''"
   ]
  },
  {
   "cell_type": "code",
   "execution_count": 3,
   "metadata": {},
   "outputs": [],
   "source": [
    "def mnist_digit_data():\n",
    "    (train_images, train_labels), (test_images, test_labels)=tf.keras.datasets.mnist.load_data()\n",
    "    train_images=train_images/255\n",
    "    test_images=test_images/255\n",
    "    return train_images, train_labels, test_images, test_labels"
   ]
  },
  {
   "cell_type": "code",
   "execution_count": 4,
   "metadata": {},
   "outputs": [
    {
     "data": {
      "text/plain": [
       "'\\nKészíts egy neurális hálót, ami képes felismerni a kézírásos számokat.\\nA háló kimenete legyen 10 elemű, és a softmax aktivációs függvényt használja.\\nHálon belül tetszőleges számú réteg lehet.\\n\\n\\nEgy példa a kimenetre: model,\\nreturn type: keras.engine.sequential.Sequential\\nfüggvény neve: mnist_model\\n'"
      ]
     },
     "execution_count": 4,
     "metadata": {},
     "output_type": "execute_result"
    }
   ],
   "source": [
    "'''\n",
    "Készíts egy neurális hálót, ami képes felismerni a kézírásos számokat.\n",
    "A háló kimenete legyen 10 elemű, és a softmax aktivációs függvényt használja.\n",
    "Hálon belül tetszőleges számú réteg lehet.\n",
    "\n",
    "\n",
    "Egy példa a kimenetre: model,\n",
    "return type: keras.engine.sequential.Sequential\n",
    "függvény neve: mnist_model\n",
    "'''"
   ]
  },
  {
   "cell_type": "code",
   "execution_count": 5,
   "metadata": {},
   "outputs": [],
   "source": [
    "\n",
    "def mnist_model():\n",
    "    model=tf.keras.Sequential()\n",
    "    model.add(tf.keras.Input(shape=(28,28)))\n",
    "    model.add(tf.keras.layers.Dense(128,activation='relu'))\n",
    "    model.add(tf.keras.layers.Dense(10,activation='softmax'))\n",
    "    return model"
   ]
  },
  {
   "cell_type": "code",
   "execution_count": 6,
   "metadata": {},
   "outputs": [
    {
     "data": {
      "text/plain": [
       "'\\nKészíts egy metódust, ami a bemeneti hálot compile-olja.\\nOptimizer: Adam\\nLoss: SparseCategoricalCrossentropy(from_logits=False)\\n\\nEgy példa a bemenetre: model\\nEgy példa a kimenetre: model\\nreturn type: keras.engine.sequential.Sequential\\nfüggvény neve: model_compile\\n'"
      ]
     },
     "execution_count": 6,
     "metadata": {},
     "output_type": "execute_result"
    }
   ],
   "source": [
    "'''\n",
    "Készíts egy metódust, ami a bemeneti hálot compile-olja.\n",
    "Optimizer: Adam\n",
    "Loss: SparseCategoricalCrossentropy(from_logits=False)\n",
    "\n",
    "Egy példa a bemenetre: model\n",
    "Egy példa a kimenetre: model\n",
    "return type: keras.engine.sequential.Sequential\n",
    "függvény neve: model_compile\n",
    "'''"
   ]
  },
  {
   "cell_type": "code",
   "execution_count": 7,
   "metadata": {},
   "outputs": [],
   "source": [
    "def model_compile(model):\n",
    "    model.compile(optimizer='adam',\n",
    "                  loss=tf.keras.losses.SparseCategoricalCrossentropy(from_logits=False),\n",
    "                  metrics=['accuracy'])\n",
    "    return model\n"
   ]
  },
  {
   "cell_type": "code",
   "execution_count": 8,
   "metadata": {},
   "outputs": [
    {
     "data": {
      "text/plain": [
       "'\\nKészíts egy metódust, ami a bemeneti hálót feltanítja.\\n\\nEgy példa a bemenetre: model,epochs, train_images, train_labels\\nEgy példa a kimenetre: model\\nreturn type: keras.engine.sequential.Sequential\\nfüggvény neve: model_fit\\n'"
      ]
     },
     "execution_count": 8,
     "metadata": {},
     "output_type": "execute_result"
    }
   ],
   "source": [
    "'''\n",
    "Készíts egy metódust, ami a bemeneti hálót feltanítja.\n",
    "\n",
    "Egy példa a bemenetre: model,epochs, train_images, train_labels\n",
    "Egy példa a kimenetre: model\n",
    "return type: keras.engine.sequential.Sequential\n",
    "függvény neve: model_fit\n",
    "'''"
   ]
  },
  {
   "cell_type": "code",
   "execution_count": 9,
   "metadata": {},
   "outputs": [],
   "source": [
    "def model_fit(model,  epochs,train_images,train_labels):\n",
    "    model.fit(train_images, train_labels, epochs=epochs,verbose=1)\n",
    "    return model"
   ]
  },
  {
   "cell_type": "code",
   "execution_count": 10,
   "metadata": {},
   "outputs": [
    {
     "data": {
      "text/plain": [
       "'\\nKészíts egy metódust, ami a bemeneti hálót kiértékeli a teszt adatokon.\\n\\nEgy példa a bemenetre: model, test_images, test_labels\\nEgy példa a kimenetre: test_loss, test_acc\\nreturn type: float, float\\nfüggvény neve: model_evaluate\\n'"
      ]
     },
     "execution_count": 10,
     "metadata": {},
     "output_type": "execute_result"
    }
   ],
   "source": [
    "'''\n",
    "Készíts egy metódust, ami a bemeneti hálót kiértékeli a teszt adatokon.\n",
    "\n",
    "Egy példa a bemenetre: model, test_images, test_labels\n",
    "Egy példa a kimenetre: test_loss, test_acc\n",
    "return type: float, float\n",
    "függvény neve: model_evaluate\n",
    "'''"
   ]
  },
  {
   "cell_type": "code",
   "execution_count": 11,
   "metadata": {},
   "outputs": [],
   "source": [
    "def model_evaluate(model, test_images, test_labels):\n",
    "    test_loss, test_acc = model.evaluate(test_images,  test_labels)\n",
    "    return test_loss, test_acc"
   ]
  }
 ],
 "metadata": {
  "kernelspec": {
   "display_name": "Python 3",
   "language": "python",
   "name": "python3"
  },
  "language_info": {
   "codemirror_mode": {
    "name": "ipython",
    "version": 3
   },
   "file_extension": ".py",
   "mimetype": "text/x-python",
   "name": "python",
   "nbconvert_exporter": "python",
   "pygments_lexer": "ipython3",
   "version": "3.10.11"
  },
  "orig_nbformat": 4
 },
 "nbformat": 4,
 "nbformat_minor": 2
}
